{
 "cells": [
  {
   "cell_type": "code",
   "execution_count": 1,
   "metadata": {
    "scrolled": false
   },
   "outputs": [],
   "source": [
    "from elasticsearch import Elasticsearch\n",
    "from elasticsearch import helpers\n",
    "import pandas as pd\n",
    "import json as json\n",
    "import matplotlib.pyplot as plt\n",
    "from sklearn.cluster import KMeans\n",
    "from pandas.io.json import json_normalize"
   ]
  },
  {
   "cell_type": "code",
   "execution_count": 2,
   "metadata": {},
   "outputs": [],
   "source": [
    "def connect_elasticsearch():\n",
    "    es = Elasticsearch(['t-dock-es-1.dev.internal.xq:9200'])\n",
    "    return es"
   ]
  },
  {
   "cell_type": "code",
   "execution_count": 3,
   "metadata": {},
   "outputs": [],
   "source": [
    "def scan_data(es, index_name, query):\n",
    "    scan_result = helpers.scan(es,\n",
    "        query=query,\n",
    "        index=index_name\n",
    "    )\n",
    "    return scan_result"
   ]
  },
  {
   "cell_type": "code",
   "execution_count": 4,
   "metadata": {},
   "outputs": [],
   "source": [
    "def retrieve_data(es, index_name, query, object_filter):\n",
    "    result_set = es.search(index=index_name, \n",
    "                           body=query, \n",
    "                           filter_path=object_filter)\n",
    "    \n",
    "    return result_set\n",
    "#,flat_settings=flat_setting"
   ]
  },
  {
   "cell_type": "code",
   "execution_count": 5,
   "metadata": {
    "scrolled": true
   },
   "outputs": [
    {
     "name": "stdout",
     "output_type": "stream",
     "text": [
      "True\n"
     ]
    }
   ],
   "source": [
    "es = connect_elasticsearch()\n",
    "\n",
    "print(es.ping())"
   ]
  },
  {
   "cell_type": "code",
   "execution_count": null,
   "metadata": {},
   "outputs": [],
   "source": [
    "df = pd.DataFrame.from_dict([document['_source'] for document in result])\n",
    "\n",
    "print(df)\n",
    "\n",
    "cvss_scores = pd.to_numeric(df[\"plugin_cvss_base\"], errors='coerce')\n",
    "\n",
    "print(cvss_scores)\n",
    "\n",
    "plt.hist(cvss_scores, 10)\n",
    "plt.savefig('/tmp/hist-cvss-score.png', dpi=300)"
   ]
  },
  {
   "cell_type": "code",
   "execution_count": 36,
   "metadata": {
    "scrolled": false
   },
   "outputs": [
    {
     "name": "stdout",
     "output_type": "stream",
     "text": [
      "   plugin_cvss_base  xqseverity\n",
      "0               0.0         1.0\n",
      "1               0.0         1.0\n",
      "2               0.0         1.0\n",
      "3              -1.0         NaN\n",
      "4              -1.0         NaN\n"
     ]
    },
    {
     "data": {
      "image/png": "[encoded data removed]",
      "text/plain": [
       "<Figure size 432x288 with 1 Axes>"
      ]
     },
     "metadata": {
      "needs_background": "light"
     },
     "output_type": "display_data"
    }
   ],
   "source": [
    "# results = elasticsearch.helpers.scan(es, query=query_1, index=\"rapier\")\n",
    "query_0 = '{\"query\":{\"bool\":{\"must\":[{\"range\":{\"date_start\":{\"gte\":\"now-1M/M\",\"lt\":\"now/M\"}}}],\"must_not\":[{\"term\":{\"seeded\":{\"value\":\"1\"}}}]}}}'\n",
    "query_1 = {\"_source\":[\"xqseverity\",\"plugin_cvss_base\"],\"query\":{\"bool\":{\"must\":[{\"range\":{\"date_start\":{\"gte\":\"now-1M/M\",\"lt\":\"now/M\"}}}],\"must_not\":[{\"term\":{\"seeded\":{\"value\":\"1\"}}}]}}}\n",
    "\n",
    "# results = elasticsearch.helpers.scan(es, query=query_1, index=\"rapier\")\n",
    "results = scan_data(es, 'rapier*', query_1)\n",
    "df = pd.DataFrame.from_dict([document['_source'] for document in results])\n",
    "\n",
    "# cvss_scores = pd.to_numeric(df[\"plugin_cvss_base\"], errors='coerce')\n",
    "df[\"plugin_cvss_base\"] = pd.to_numeric(df[\"plugin_cvss_base\"]) \n",
    "\n",
    "# cvss_scores = pd.fillnan(0,inplace=True)\n",
    "df['plugin_cvss_base'].fillna(-1, inplace=True)\n",
    "\n",
    "print(df.head())\n",
    "\n",
    "plt.hist(df[\"plugin_cvss_base\"], 100)\n",
    "plt.xticks(rotation=90)\n",
    "plt.savefig('tmp/hist-cvss-score2.png', dpi=300)"
   ]
  },
  {
   "cell_type": "code",
   "execution_count": 31,
   "metadata": {},
   "outputs": [
    {
     "data": {
      "text/html": [
       "<div>\n",
       "<style scoped>\n",
       "    .dataframe tbody tr th:only-of-type {\n",
       "        vertical-align: middle;\n",
       "    }\n",
       "\n",
       "    .dataframe tbody tr th {\n",
       "        vertical-align: top;\n",
       "    }\n",
       "\n",
       "    .dataframe thead th {\n",
       "        text-align: right;\n",
       "    }\n",
       "</style>\n",
       "<table border=\"1\" class=\"dataframe\">\n",
       "  <thead>\n",
       "    <tr style=\"text-align: right;\">\n",
       "      <th></th>\n",
       "      <th>plugin_cvss_base</th>\n",
       "      <th>xqseverity</th>\n",
       "    </tr>\n",
       "  </thead>\n",
       "  <tbody>\n",
       "    <tr>\n",
       "      <th>0</th>\n",
       "      <td>0.0</td>\n",
       "      <td>1.0</td>\n",
       "    </tr>\n",
       "    <tr>\n",
       "      <th>1</th>\n",
       "      <td>0.0</td>\n",
       "      <td>1.0</td>\n",
       "    </tr>\n",
       "    <tr>\n",
       "      <th>2</th>\n",
       "      <td>0.0</td>\n",
       "      <td>1.0</td>\n",
       "    </tr>\n",
       "    <tr>\n",
       "      <th>3</th>\n",
       "      <td>0.0</td>\n",
       "      <td>NaN</td>\n",
       "    </tr>\n",
       "    <tr>\n",
       "      <th>4</th>\n",
       "      <td>0.0</td>\n",
       "      <td>NaN</td>\n",
       "    </tr>\n",
       "  </tbody>\n",
       "</table>\n",
       "</div>"
      ],
      "text/plain": [
       "   plugin_cvss_base  xqseverity\n",
       "0               0.0         1.0\n",
       "1               0.0         1.0\n",
       "2               0.0         1.0\n",
       "3               0.0         NaN\n",
       "4               0.0         NaN"
      ]
     },
     "execution_count": 31,
     "metadata": {},
     "output_type": "execute_result"
    }
   ],
   "source": [
    "df.head()"
   ]
  },
  {
   "cell_type": "code",
   "execution_count": 32,
   "metadata": {},
   "outputs": [
    {
     "data": {
      "text/html": [
       "<div>\n",
       "<style scoped>\n",
       "    .dataframe tbody tr th:only-of-type {\n",
       "        vertical-align: middle;\n",
       "    }\n",
       "\n",
       "    .dataframe tbody tr th {\n",
       "        vertical-align: top;\n",
       "    }\n",
       "\n",
       "    .dataframe thead th {\n",
       "        text-align: right;\n",
       "    }\n",
       "</style>\n",
       "<table border=\"1\" class=\"dataframe\">\n",
       "  <thead>\n",
       "    <tr style=\"text-align: right;\">\n",
       "      <th></th>\n",
       "      <th>plugin_cvss_base</th>\n",
       "      <th>xqseverity</th>\n",
       "    </tr>\n",
       "  </thead>\n",
       "  <tbody>\n",
       "    <tr>\n",
       "      <th>count</th>\n",
       "      <td>35722.000000</td>\n",
       "      <td>26088.000000</td>\n",
       "    </tr>\n",
       "    <tr>\n",
       "      <th>mean</th>\n",
       "      <td>3.223134</td>\n",
       "      <td>2.436829</td>\n",
       "    </tr>\n",
       "    <tr>\n",
       "      <th>std</th>\n",
       "      <td>3.688967</td>\n",
       "      <td>1.575898</td>\n",
       "    </tr>\n",
       "    <tr>\n",
       "      <th>min</th>\n",
       "      <td>0.000000</td>\n",
       "      <td>1.000000</td>\n",
       "    </tr>\n",
       "    <tr>\n",
       "      <th>25%</th>\n",
       "      <td>0.000000</td>\n",
       "      <td>1.000000</td>\n",
       "    </tr>\n",
       "    <tr>\n",
       "      <th>50%</th>\n",
       "      <td>0.000000</td>\n",
       "      <td>1.000000</td>\n",
       "    </tr>\n",
       "    <tr>\n",
       "      <th>75%</th>\n",
       "      <td>6.900000</td>\n",
       "      <td>4.000000</td>\n",
       "    </tr>\n",
       "    <tr>\n",
       "      <th>max</th>\n",
       "      <td>10.000000</td>\n",
       "      <td>5.000000</td>\n",
       "    </tr>\n",
       "  </tbody>\n",
       "</table>\n",
       "</div>"
      ],
      "text/plain": [
       "       plugin_cvss_base    xqseverity\n",
       "count      35722.000000  26088.000000\n",
       "mean           3.223134      2.436829\n",
       "std            3.688967      1.575898\n",
       "min            0.000000      1.000000\n",
       "25%            0.000000      1.000000\n",
       "50%            0.000000      1.000000\n",
       "75%            6.900000      4.000000\n",
       "max           10.000000      5.000000"
      ]
     },
     "execution_count": 32,
     "metadata": {},
     "output_type": "execute_result"
    }
   ],
   "source": [
    "df.describe()"
   ]
  },
  {
   "cell_type": "code",
   "execution_count": null,
   "metadata": {
    "scrolled": false
   },
   "outputs": [],
   "source": [
    "query_string = {'query':\n",
    "                {\n",
    "                    \"bool\":{\n",
    "                        \"must\":[\n",
    "                            {\"match\": {'event.action': 'network_flow'}},\n",
    "                            {\"match\": {\"flow.final\": \"true\"}},\n",
    "                            {\"match\": {\"destination.ip\": \"10.3.8.123\"}},\n",
    "                            {\"range\": {\"@timestamp\": {\"gte\": \"2019-07-26T05:00:00.000Z\",\n",
    "                                                      \"lte\": \"2019-07-26T08:00:00.000Z\"\n",
    "#                                                         \"lt\":\"2019-07-18T13:40:00.000Z\"\n",
    "                                                     }}}\n",
    "                        ]\n",
    "                    }\n",
    "                }\n",
    "               }\n",
    "\n",
    "\n",
    "object_filter = ['hits.hits._source.@timestamp',\n",
    "                 'hits.hits._id',\n",
    "                 'hits.hits._source.source',\n",
    "                 'hits.hits._source.destination',\n",
    "                 'hits.hits._source.event',\n",
    "                 'hits.hits._source.network']\n",
    "\n",
    "result = scan_data(es, 'packetbeat-*', query_string)"
   ]
  },
  {
   "cell_type": "code",
   "execution_count": null,
   "metadata": {},
   "outputs": [],
   "source": [
    "print(len(result))"
   ]
  },
  {
   "cell_type": "code",
   "execution_count": null,
   "metadata": {},
   "outputs": [],
   "source": [
    "query_string = {'query': {'match': {'@timestamp': '2019-05-30T01:50:50.000Z'}}, \"from\" : 0, \"size\" : 1000} \n",
    "#query_string = {\"from\" : 0, \"size\" : 50000}\n",
    "object_filter = ['hits.hits._source.@timestamp', \n",
    "                 'hits.hits._source.agent.hostname',\n",
    "                 'hits.hits._source.source',\n",
    "                 'hits.hits._source.destination',\n",
    "                 'hits.hits._source.event']\n",
    "result = retrieve_data(es, 'packetbeat-*', query_string, object_filter)"
   ]
  },
  {
   "cell_type": "code",
   "execution_count": null,
   "metadata": {},
   "outputs": [],
   "source": [
    "scan_result = [json_normalize(res) for res in result]\n",
    "result_df = pd.DataFrame(scan_result['_source.@timestamp'], columns=['x', 'y'])"
   ]
  },
  {
   "cell_type": "code",
   "execution_count": null,
   "metadata": {},
   "outputs": [],
   "source": [
    "len(result_df)"
   ]
  },
  {
   "cell_type": "code",
   "execution_count": null,
   "metadata": {},
   "outputs": [],
   "source": [
    "scan_dataframe = pd.DataFrame()\n",
    "\n",
    "\n",
    "# '_id', '_source.@timestamp', '_source.destination.bytes',\n",
    "#        '_source.destination.ip', '_source.destination.packets',\n",
    "#        '_source.destination.port', '_source.event.action',\n",
    "#        '_source.event.category', '_source.event.duration',\n",
    "#        '_source.event.kind', '_source.network.bytes',\n",
    "#        '_source.network.packets', '_source.network.transport',\n",
    "#        '_source.network.type', '_source.source.bytes', '_source.source.ip',\n",
    "#        '_source.source.packets', '_source.source.port'\n",
    "\n",
    "for res in result:\n",
    "    flat_res = json_normalize(res)\n",
    "    master_idx = len(scan_dataframe)\n",
    "    print(master_idx)\n",
    "\n",
    "    destination_bytes = 0\n",
    "    if '_source.destination.bytes' in flat_res.columns:\n",
    "        destination_bytes = flat_res.loc[0,'_source.destination.bytes']\n",
    "            \n",
    "    destination_packets = 0\n",
    "    if '_source.destination.packets' in flat_res.columns:\n",
    "        destination_packets = flat_res.loc[0,'_source.destination.packets']\n",
    "        \n",
    "    destination_port = 0\n",
    "    if '_source.destination.port' in flat_res.columns:\n",
    "        destination_port = flat_res.loc[0,'_source.destination.port']\n",
    "        \n",
    "    source_port = 0\n",
    "    if '_source.source.port' in flat_res.columns:\n",
    "        source_port = flat_res.loc[0,'_source.source.port']\n",
    "    \n",
    "#     print(flat_res.loc[0,'_source.destination.bytes'])\n",
    "    scan_dataframe.loc[master_idx, 'id'] = flat_res.loc[0,'_id']\n",
    "    scan_dataframe.loc[master_idx, 'timestamp'] = flat_res.loc[0,'_source.@timestamp']\n",
    "    scan_dataframe.loc[master_idx, 'destination.bytes'] = destination_bytes\n",
    "    scan_dataframe.loc[master_idx, 'destination.ip'] = flat_res.loc[0,'_source.destination.ip']\n",
    "    scan_dataframe.loc[master_idx, 'destination.port'] = destination_port\n",
    "    scan_dataframe.loc[master_idx, 'destination.packets'] = destination_packets\n",
    "    scan_dataframe.loc[master_idx, 'event.action'] = flat_res.loc[0,'_source.event.action']\n",
    "    scan_dataframe.loc[master_idx, 'event.category'] = flat_res.loc[0,'_source.event.category']\n",
    "    scan_dataframe.loc[master_idx, 'event.duration'] = flat_res.loc[0,'_source.event.duration']\n",
    "    scan_dataframe.loc[master_idx, 'event.kind'] = flat_res.loc[0,'_source.event.kind']\n",
    "    scan_dataframe.loc[master_idx, 'network.bytes'] = flat_res.loc[0,'_source.network.bytes']\n",
    "    scan_dataframe.loc[master_idx, 'network.packets'] = flat_res.loc[0,'_source.network.packets']\n",
    "    scan_dataframe.loc[master_idx, 'network.transport'] = flat_res.loc[0,'_source.network.transport']\n",
    "    scan_dataframe.loc[master_idx, 'network.type'] = flat_res.loc[0,'_source.network.type']\n",
    "    scan_dataframe.loc[master_idx, 'source.bytes'] = flat_res.loc[0,'_source.source.bytes']\n",
    "    scan_dataframe.loc[master_idx, 'source.ip'] = flat_res.loc[0,'_source.source.ip']\n",
    "    scan_dataframe.loc[master_idx, 'source.packets'] = flat_res.loc[0,'_source.source.packets']\n",
    "    scan_dataframe.loc[master_idx, 'source.port'] = source_port"
   ]
  },
  {
   "cell_type": "code",
   "execution_count": null,
   "metadata": {},
   "outputs": [],
   "source": [
    "len(scan_dataframe)\n",
    "# scan_dataframe.head()"
   ]
  },
  {
   "cell_type": "code",
   "execution_count": null,
   "metadata": {},
   "outputs": [],
   "source": [
    "scan_dataframe.loc[0:2,['source.packets', 'source.port']]"
   ]
  },
  {
   "cell_type": "code",
   "execution_count": null,
   "metadata": {},
   "outputs": [],
   "source": [
    "scan_dataframe.to_csv(r'data/scan_2019-08-02_4.csv')"
   ]
  }
 ],
 "metadata": {
  "kernelspec": {
   "display_name": "Python 3",
   "language": "python",
   "name": "python3"
  },
  "language_info": {
   "codemirror_mode": {
    "name": "ipython",
    "version": 3
   },
   "file_extension": ".py",
   "mimetype": "text/x-python",
   "name": "python",
   "nbconvert_exporter": "python",
   "pygments_lexer": "ipython3",
   "version": "3.8.5"
  }
 },
 "nbformat": 4,
 "nbformat_minor": 2
}
